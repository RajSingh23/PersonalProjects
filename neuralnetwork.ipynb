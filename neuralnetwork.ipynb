{
  "nbformat": 4,
  "nbformat_minor": 0,
  "metadata": {
    "colab": {
      "provenance": [],
      "authorship_tag": "ABX9TyPFQriKSKrJ9Gio7ziyykxj"
    },
    "kernelspec": {
      "name": "python3",
      "display_name": "Python 3"
    },
    "language_info": {
      "name": "python"
    }
  },
  "cells": [
    {
      "cell_type": "code",
      "execution_count": 6,
      "metadata": {
        "id": "1h4lOVBerdpm"
      },
      "outputs": [],
      "source": [
        "import tensorflow as tf\n",
        "from tensorflow.keras.datasets import mnist\n",
        "from tensorflow.keras.models import Sequential\n",
        "from tensorflow.keras.layers import Dense\n",
        "from tensorflow.keras.utils import to_categorical\n",
        "import matplotlib.pyplot as plt"
      ]
    },
    {
      "cell_type": "code",
      "source": [
        "# Load and preprocess the data\n",
        "(x_train, y_train), (x_test, y_test) = mnist.load_data()\n",
        "\n",
        "# Reshape and normalize the input data\n",
        "x_train = x_train.reshape((60000, 28 * 28))\n",
        "x_train = x_train.astype('float32') / 255\n",
        "\n",
        "x_test = x_test.reshape((10000, 28 * 28))\n",
        "x_test = x_test.astype('float32') / 255\n",
        "\n",
        "# Convert the labels to categorical one-hot encoding\n",
        "y_train = to_categorical(y_train)\n",
        "y_test = to_categorical(y_test)\n",
        "\n",
        "# Define the neural network architecture\n",
        "model = Sequential()\n",
        "model.add(Dense(512, activation='relu', input_shape=(28 * 28,)))\n",
        "model.add(Dense(10, activation='softmax'))\n",
        "\n",
        "# Compile and train the model\n",
        "model.compile(optimizer='adam', loss='categorical_crossentropy', metrics=['accuracy'])\n",
        "model.fit(x_train, y_train, epochs=10, batch_size=128, validation_data=(x_test, y_test))"
      ],
      "metadata": {
        "colab": {
          "base_uri": "https://localhost:8080/"
        },
        "id": "vnQmSBBbvDOr",
        "outputId": "d8bc289e-53f1-4969-de4d-7536509402cb"
      },
      "execution_count": 4,
      "outputs": [
        {
          "output_type": "stream",
          "name": "stdout",
          "text": [
            "Epoch 1/10\n",
            "469/469 [==============================] - 7s 13ms/step - loss: 0.2650 - accuracy: 0.9251 - val_loss: 0.1400 - val_accuracy: 0.9578\n",
            "Epoch 2/10\n",
            "469/469 [==============================] - 6s 13ms/step - loss: 0.1090 - accuracy: 0.9681 - val_loss: 0.0886 - val_accuracy: 0.9732\n",
            "Epoch 3/10\n",
            "469/469 [==============================] - 6s 14ms/step - loss: 0.0707 - accuracy: 0.9791 - val_loss: 0.0810 - val_accuracy: 0.9763\n",
            "Epoch 4/10\n",
            "469/469 [==============================] - 6s 12ms/step - loss: 0.0514 - accuracy: 0.9845 - val_loss: 0.0733 - val_accuracy: 0.9764\n",
            "Epoch 5/10\n",
            "469/469 [==============================] - 6s 14ms/step - loss: 0.0375 - accuracy: 0.9887 - val_loss: 0.0676 - val_accuracy: 0.9792\n",
            "Epoch 6/10\n",
            "469/469 [==============================] - 6s 12ms/step - loss: 0.0272 - accuracy: 0.9921 - val_loss: 0.0632 - val_accuracy: 0.9803\n",
            "Epoch 7/10\n",
            "469/469 [==============================] - 7s 15ms/step - loss: 0.0211 - accuracy: 0.9940 - val_loss: 0.0698 - val_accuracy: 0.9790\n",
            "Epoch 8/10\n",
            "469/469 [==============================] - 6s 12ms/step - loss: 0.0164 - accuracy: 0.9959 - val_loss: 0.0662 - val_accuracy: 0.9800\n",
            "Epoch 9/10\n",
            "469/469 [==============================] - 7s 14ms/step - loss: 0.0120 - accuracy: 0.9972 - val_loss: 0.0698 - val_accuracy: 0.9803\n",
            "Epoch 10/10\n",
            "469/469 [==============================] - 6s 12ms/step - loss: 0.0090 - accuracy: 0.9981 - val_loss: 0.0649 - val_accuracy: 0.9815\n"
          ]
        },
        {
          "output_type": "execute_result",
          "data": {
            "text/plain": [
              "<keras.callbacks.History at 0x7fb8988e93c0>"
            ]
          },
          "metadata": {},
          "execution_count": 4
        }
      ]
    },
    {
      "cell_type": "code",
      "source": [
        "# Evaluate the model\n",
        "loss, accuracy = model.evaluate(x_test, y_test)\n",
        "print('Test loss:', loss)\n",
        "print('Test accuracy:', accuracy)\n",
        "\n",
        "# Select a random image from the test set\n",
        "index = 35\n",
        "image = x_test[index].reshape((28, 28))\n",
        "label = y_test[index].argmax()\n",
        "\n",
        "# Display the image\n",
        "plt.imshow(image, cmap='gray')\n",
        "plt.title('True label: {}'.format(label))\n",
        "plt.show()\n",
        "\n",
        "# Make a prediction for the image\n",
        "image = x_test[index].reshape((1, 28 * 28))\n",
        "prediction = model.predict(image)\n",
        "predicted_label = prediction.argmax()\n",
        "\n",
        "print('Model prediction:', predicted_label)"
      ],
      "metadata": {
        "colab": {
          "base_uri": "https://localhost:8080/",
          "height": 539
        },
        "id": "qpY0XsqovNlr",
        "outputId": "d8674009-220b-4a03-b162-4b5652184ff3"
      },
      "execution_count": 10,
      "outputs": [
        {
          "output_type": "stream",
          "name": "stdout",
          "text": [
            "313/313 [==============================] - 2s 5ms/step - loss: 0.0649 - accuracy: 0.9815\n",
            "Test loss: 0.0648820772767067\n",
            "Test accuracy: 0.9815000295639038\n"
          ]
        },
        {
          "output_type": "display_data",
          "data": {
            "text/plain": [
              "<Figure size 640x480 with 1 Axes>"
            ],
            "image/png": "[encoded data removed]"
          },
          "metadata": {}
        },
        {
          "output_type": "stream",
          "name": "stdout",
          "text": [
            "1/1 [==============================] - 0s 20ms/step\n",
            "Model prediction: 2\n"
          ]
        }
      ]
    }
  ]
}