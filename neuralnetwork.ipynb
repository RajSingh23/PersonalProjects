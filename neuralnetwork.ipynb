{
  "nbformat": 4,
  "nbformat_minor": 0,
  "metadata": {
    "colab": {
      "provenance": [],
      "authorship_tag": "ABX9TyNhahdCvz84TXXR57SYcuhc",
      "include_colab_link": true
    },
    "kernelspec": {
      "name": "python3",
      "display_name": "Python 3"
    },
    "language_info": {
      "name": "python"
    }
  },
  "cells": [
    {
      "cell_type": "markdown",
      "metadata": {
        "id": "view-in-github",
        "colab_type": "text"
      },
      "source": [
        "<a href=\"https://colab.research.google.com/github/RajSingh23/Projects/blob/main/neuralnetwork.ipynb\" target=\"_parent\"><img src=\"https://colab.research.google.com/assets/colab-badge.svg\" alt=\"Open In Colab\"/></a>"
      ]
    },
    {
      "cell_type": "code",
      "execution_count": 52,
      "metadata": {
        "id": "1h4lOVBerdpm"
      },
      "outputs": [],
      "source": [
        "import tensorflow as tf\n",
        "from tensorflow.keras.datasets import mnist\n",
        "from tensorflow.keras.datasets import fashion_mnist\n",
        "from tensorflow.keras.models import Sequential\n",
        "from tensorflow.keras.layers import Dense\n",
        "from tensorflow.keras.utils import to_categorical\n",
        "import matplotlib.pyplot as plt\n",
        "import numpy as np"
      ]
    },
    {
      "cell_type": "code",
      "source": [
        "# Load and preprocess the data\n",
        "(x_train, y_train), (x_test, y_test) = mnist.load_data()\n",
        "\n",
        "# Reshape and normalize the input data\n",
        "x_train = x_train.reshape((60000, 28 * 28))\n",
        "x_train = x_train.astype('float32') / 255\n",
        "\n",
        "x_test = x_test.reshape((10000, 28 * 28))\n",
        "x_test = x_test.astype('float32') / 255\n",
        "\n",
        "# Convert the labels to categorical one-hot encoding\n",
        "y_train = to_categorical(y_train)\n",
        "y_test = to_categorical(y_test)\n",
        "\n",
        "# Define the neural network architecture\n",
        "model = Sequential()\n",
        "model.add(Dense(512, activation='relu', input_shape=(28 * 28,)))\n",
        "model.add(Dense(10, activation='softmax'))\n",
        "\n",
        "# Compile and train the model\n",
        "model.compile(optimizer='adam', loss='categorical_crossentropy', metrics=['accuracy'])\n",
        "model.fit(x_train, y_train, epochs=10, batch_size=128, validation_data=(x_test, y_test))"
      ],
      "metadata": {
        "colab": {
          "base_uri": "https://localhost:8080/"
        },
        "id": "vnQmSBBbvDOr",
        "outputId": "ab7ed8ff-c15b-47cd-8665-0075d1eb8533"
      },
      "execution_count": 53,
      "outputs": [
        {
          "output_type": "stream",
          "name": "stdout",
          "text": [
            "Epoch 1/10\n",
            "469/469 [==============================] - 5s 10ms/step - loss: 0.2674 - accuracy: 0.9240 - val_loss: 0.1294 - val_accuracy: 0.9616\n",
            "Epoch 2/10\n",
            "469/469 [==============================] - 4s 9ms/step - loss: 0.1083 - accuracy: 0.9689 - val_loss: 0.0934 - val_accuracy: 0.9705\n",
            "Epoch 3/10\n",
            "469/469 [==============================] - 4s 8ms/step - loss: 0.0704 - accuracy: 0.9788 - val_loss: 0.0795 - val_accuracy: 0.9758\n",
            "Epoch 4/10\n",
            "469/469 [==============================] - 4s 8ms/step - loss: 0.0496 - accuracy: 0.9854 - val_loss: 0.0684 - val_accuracy: 0.9787\n",
            "Epoch 5/10\n",
            "469/469 [==============================] - 4s 9ms/step - loss: 0.0368 - accuracy: 0.9896 - val_loss: 0.0643 - val_accuracy: 0.9789\n",
            "Epoch 6/10\n",
            "469/469 [==============================] - 4s 9ms/step - loss: 0.0281 - accuracy: 0.9918 - val_loss: 0.0669 - val_accuracy: 0.9787\n",
            "Epoch 7/10\n",
            "469/469 [==============================] - 4s 8ms/step - loss: 0.0201 - accuracy: 0.9949 - val_loss: 0.0611 - val_accuracy: 0.9805\n",
            "Epoch 8/10\n",
            "469/469 [==============================] - 4s 8ms/step - loss: 0.0146 - accuracy: 0.9964 - val_loss: 0.0740 - val_accuracy: 0.9773\n",
            "Epoch 9/10\n",
            "469/469 [==============================] - 5s 10ms/step - loss: 0.0122 - accuracy: 0.9969 - val_loss: 0.0762 - val_accuracy: 0.9762\n",
            "Epoch 10/10\n",
            "469/469 [==============================] - 3s 7ms/step - loss: 0.0104 - accuracy: 0.9974 - val_loss: 0.0668 - val_accuracy: 0.9806\n"
          ]
        },
        {
          "output_type": "execute_result",
          "data": {
            "text/plain": [
              "<keras.callbacks.History at 0x79ea5c954a90>"
            ]
          },
          "metadata": {},
          "execution_count": 53
        }
      ]
    },
    {
      "cell_type": "code",
      "source": [
        "# Evaluate the model\n",
        "loss, accuracy = model.evaluate(x_test, y_test)\n",
        "print('Test loss:', loss)\n",
        "print('Test accuracy:', accuracy)\n",
        "\n",
        "# Select a random image from the test set\n",
        "index = 35\n",
        "image = x_test[index].reshape((28, 28))\n",
        "label = y_test[index].argmax()\n",
        "\n",
        "# Display the image\n",
        "plt.imshow(image, cmap='gray')\n",
        "plt.title('True label: {}'.format(label))\n",
        "plt.show()\n",
        "\n",
        "# Make a prediction for the image\n",
        "image = x_test[index].reshape((1, 28 * 28))\n",
        "prediction = model.predict(image)\n",
        "predicted_label = prediction.argmax()\n",
        "\n",
        "print('Model prediction:', predicted_label)"
      ],
      "metadata": {
        "colab": {
          "base_uri": "https://localhost:8080/",
          "height": 539
        },
        "id": "qpY0XsqovNlr",
        "outputId": "30755b6d-014b-4415-8426-d65467c27c24"
      },
      "execution_count": null,
      "outputs": [
        {
          "output_type": "stream",
          "name": "stdout",
          "text": [
            "313/313 [==============================] - 1s 2ms/step - loss: 0.0652 - accuracy: 0.9812\n",
            "Test loss: 0.06521402299404144\n",
            "Test accuracy: 0.9811999797821045\n"
          ]
        },
        {
          "output_type": "display_data",
          "data": {
            "text/plain": [
              "<Figure size 640x480 with 1 Axes>"
            ],
            "image/png": "[encoded data removed]"
          },
          "metadata": {}
        },
        {
          "output_type": "stream",
          "name": "stdout",
          "text": [
            "1/1 [==============================] - 0s 71ms/step\n",
            "Model prediction: 2\n"
          ]
        }
      ]
    },
    {
      "cell_type": "code",
      "source": [
        "(x1_train, y1_train), (x1_test, y1_test) = fashion_mnist.load_data()\n",
        "\n",
        "# Reshape and normalize the input data\n",
        "x1_train = x1_train.reshape((60000, 28 * 28))\n",
        "x1_train = x1_train.astype('float32') / 255\n",
        "\n",
        "x1_test = x1_test.reshape((10000, 28 * 28))\n",
        "x1_test = x1_test.astype('float32') / 255\n",
        "\n",
        "# Convert the labels to categorical one-hot encoding\n",
        "y1_train = to_categorical(y1_train)\n",
        "y1_test = to_categorical(y1_test)\n"
      ],
      "metadata": {
        "id": "9lW4Y8vI-N2g"
      },
      "execution_count": null,
      "outputs": []
    },
    {
      "cell_type": "code",
      "source": [
        "# Define the neural network architecture\n",
        "model1 = Sequential()\n",
        "model1.add(Dense(512, activation='relu', input_shape=(28 * 28,)))\n",
        "model1.add(Dense(10, activation='softmax'))  # Output layer with 10 classes for Fashion MNIST\n",
        "\n",
        "# Compile the model\n",
        "model1.compile(optimizer='adam', loss='categorical_crossentropy', metrics=['accuracy'])\n",
        "\n",
        "# Train the model\n",
        "model1.fit(x1_train, y1_train, epochs=10, batch_size=128, validation_data=(x1_test, y1_test))\n",
        "\n",
        "# Evaluate the model\n",
        "loss, accuracy = model1.evaluate(x_test, y_test)\n",
        "print('Test loss:', loss)\n",
        "print('Test accuracy:', accuracy)\n",
        "\n"
      ],
      "metadata": {
        "colab": {
          "base_uri": "https://localhost:8080/"
        },
        "id": "7SYrY_erBUwO",
        "outputId": "cb7e0493-6986-4bf0-fc57-5c4eea70edd0"
      },
      "execution_count": null,
      "outputs": [
        {
          "output_type": "stream",
          "name": "stdout",
          "text": [
            "Epoch 1/10\n",
            "469/469 [==============================] - 5s 9ms/step - loss: 0.5021 - accuracy: 0.8240 - val_loss: 0.4319 - val_accuracy: 0.8482\n",
            "Epoch 2/10\n",
            "469/469 [==============================] - 4s 8ms/step - loss: 0.3717 - accuracy: 0.8669 - val_loss: 0.3904 - val_accuracy: 0.8600\n",
            "Epoch 3/10\n",
            "469/469 [==============================] - 4s 9ms/step - loss: 0.3310 - accuracy: 0.8803 - val_loss: 0.3588 - val_accuracy: 0.8691\n",
            "Epoch 4/10\n",
            "469/469 [==============================] - 5s 10ms/step - loss: 0.3098 - accuracy: 0.8865 - val_loss: 0.3463 - val_accuracy: 0.8737\n",
            "Epoch 5/10\n",
            "469/469 [==============================] - 4s 8ms/step - loss: 0.2888 - accuracy: 0.8931 - val_loss: 0.3475 - val_accuracy: 0.8719\n",
            "Epoch 6/10\n",
            "469/469 [==============================] - 4s 9ms/step - loss: 0.2709 - accuracy: 0.9000 - val_loss: 0.3304 - val_accuracy: 0.8807\n",
            "Epoch 7/10\n",
            "469/469 [==============================] - 4s 9ms/step - loss: 0.2599 - accuracy: 0.9035 - val_loss: 0.3193 - val_accuracy: 0.8885\n",
            "Epoch 8/10\n",
            "469/469 [==============================] - 4s 8ms/step - loss: 0.2464 - accuracy: 0.9083 - val_loss: 0.3432 - val_accuracy: 0.8797\n",
            "Epoch 9/10\n",
            "469/469 [==============================] - 4s 8ms/step - loss: 0.2371 - accuracy: 0.9110 - val_loss: 0.3158 - val_accuracy: 0.8861\n",
            "Epoch 10/10\n",
            "469/469 [==============================] - 4s 10ms/step - loss: 0.2267 - accuracy: 0.9152 - val_loss: 0.3272 - val_accuracy: 0.8861\n",
            "313/313 [==============================] - 1s 2ms/step - loss: 6.0972 - accuracy: 0.1020\n",
            "Test loss: 6.097202301025391\n",
            "Test accuracy: 0.10199999809265137\n"
          ]
        }
      ]
    },
    {
      "cell_type": "code",
      "source": [
        "# Select a random image from the test set\n",
        "random_index = np.random.randint(0, len(x1_test))\n",
        "image = x1_test[random_index].reshape((28, 28))\n",
        "label = np.argmax(y1_test[random_index])\n",
        "\n",
        "# Display the image\n",
        "plt.imshow(image, cmap='gray')\n",
        "plt.title(f'True label: {label}')\n",
        "plt.show()\n",
        "\n",
        "# Make a prediction for the image\n",
        "image = x1_test[random_index].reshape((1, 28 * 28))\n",
        "prediction = model1.predict(image)\n",
        "predicted_label = np.argmax(prediction)\n",
        "\n",
        "# 0: T-shirt/top\n",
        "# 1: Trouser\n",
        "# 2: Pullover\n",
        "# 3: Dress\n",
        "# 4: Coat\n",
        "# 5: Sandal\n",
        "# 6: Shirt\n",
        "# 7: Sneaker\n",
        "# 8: Bag\n",
        "# 9: Ankle boot\n",
        "print(f'Model prediction: {predicted_label}')\n"
      ],
      "metadata": {
        "colab": {
          "base_uri": "https://localhost:8080/",
          "height": 487
        },
        "id": "n_PmmMPGC7HP",
        "outputId": "b2cbcd57-4f59-479f-c9ac-8ef86ebcb9c4"
      },
      "execution_count": 51,
      "outputs": [
        {
          "output_type": "display_data",
          "data": {
            "text/plain": [
              "<Figure size 640x480 with 1 Axes>"
            ],
            "image/png": "[encoded data removed]"
          },
          "metadata": {}
        },
        {
          "output_type": "stream",
          "name": "stdout",
          "text": [
            "1/1 [==============================] - 0s 17ms/step\n",
            "Model prediction: 0\n"
          ]
        }
      ]
    }
  ]
}