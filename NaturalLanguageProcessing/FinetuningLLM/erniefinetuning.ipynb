{
  "nbformat": 4,
  "nbformat_minor": 0,
  "metadata": {
    "colab": {
      "provenance": [],
      "gpuType": "T4"
    },
    "kernelspec": {
      "name": "python3",
      "display_name": "Python 3"
    },
    "language_info": {
      "name": "python"
    },
    "accelerator": "GPU",
    "widgets": {
      "application/vnd.jupyter.widget-state+json": {
        "f4d55aca9c3f4d3ca9d7d655627842ed": {
          "model_module": "@jupyter-widgets/controls",
          "model_name": "HBoxModel",
          "model_module_version": "1.5.0",
          "state": {
            "_dom_classes": [],
            "_model_module": "@jupyter-widgets/controls",
            "_model_module_version": "1.5.0",
            "_model_name": "HBoxModel",
            "_view_count": null,
            "_view_module": "@jupyter-widgets/controls",
            "_view_module_version": "1.5.0",
            "_view_name": "HBoxView",
            "box_style": "",
            "children": [
              "IPY_MODEL_59d7c334758344b3b771f0efe3e2ee1f",
              "IPY_MODEL_57fe98f8628a4f8d8ebcc603f4275baa",
              "IPY_MODEL_5cdf7f0df09d4105a8257e4fccdbe4e6"
            ],
            "layout": "IPY_MODEL_9763146190fd4a42b06a614271dbd953"
          }
        },
        "59d7c334758344b3b771f0efe3e2ee1f": {
          "model_module": "@jupyter-widgets/controls",
          "model_name": "HTMLModel",
          "model_module_version": "1.5.0",
          "state": {
            "_dom_classes": [],
            "_model_module": "@jupyter-widgets/controls",
            "_model_module_version": "1.5.0",
            "_model_name": "HTMLModel",
            "_view_count": null,
            "_view_module": "@jupyter-widgets/controls",
            "_view_module_version": "1.5.0",
            "_view_name": "HTMLView",
            "description": "",
            "description_tooltip": null,
            "layout": "IPY_MODEL_2c867197888b40688b2de0b6a1c6a007",
            "placeholder": "​",
            "style": "IPY_MODEL_85ea69a6324545599a8bd5ad47e48951",
            "value": "Map: 100%"
          }
        },
        "57fe98f8628a4f8d8ebcc603f4275baa": {
          "model_module": "@jupyter-widgets/controls",
          "model_name": "FloatProgressModel",
          "model_module_version": "1.5.0",
          "state": {
            "_dom_classes": [],
            "_model_module": "@jupyter-widgets/controls",
            "_model_module_version": "1.5.0",
            "_model_name": "FloatProgressModel",
            "_view_count": null,
            "_view_module": "@jupyter-widgets/controls",
            "_view_module_version": "1.5.0",
            "_view_name": "ProgressView",
            "bar_style": "success",
            "description": "",
            "description_tooltip": null,
            "layout": "IPY_MODEL_c9c42c25dae44ffcb11d27a51bb44c99",
            "max": 1725,
            "min": 0,
            "orientation": "horizontal",
            "style": "IPY_MODEL_379122e25d53497ca08597bfd0449000",
            "value": 1725
          }
        },
        "5cdf7f0df09d4105a8257e4fccdbe4e6": {
          "model_module": "@jupyter-widgets/controls",
          "model_name": "HTMLModel",
          "model_module_version": "1.5.0",
          "state": {
            "_dom_classes": [],
            "_model_module": "@jupyter-widgets/controls",
            "_model_module_version": "1.5.0",
            "_model_name": "HTMLModel",
            "_view_count": null,
            "_view_module": "@jupyter-widgets/controls",
            "_view_module_version": "1.5.0",
            "_view_name": "HTMLView",
            "description": "",
            "description_tooltip": null,
            "layout": "IPY_MODEL_33f4b9be75fb4af8b393c5b4bb5fcce5",
            "placeholder": "​",
            "style": "IPY_MODEL_5ae03bc86d4c43ccada166839acc5664",
            "value": " 1725/1725 [00:00&lt;00:00, 2500.48 examples/s]"
          }
        },
        "9763146190fd4a42b06a614271dbd953": {
          "model_module": "@jupyter-widgets/base",
          "model_name": "LayoutModel",
          "model_module_version": "1.2.0",
          "state": {
            "_model_module": "@jupyter-widgets/base",
            "_model_module_version": "1.2.0",
            "_model_name": "LayoutModel",
            "_view_count": null,
            "_view_module": "@jupyter-widgets/base",
            "_view_module_version": "1.2.0",
            "_view_name": "LayoutView",
            "align_content": null,
            "align_items": null,
            "align_self": null,
            "border": null,
            "bottom": null,
            "display": null,
            "flex": null,
            "flex_flow": null,
            "grid_area": null,
            "grid_auto_columns": null,
            "grid_auto_flow": null,
            "grid_auto_rows": null,
            "grid_column": null,
            "grid_gap": null,
            "grid_row": null,
            "grid_template_areas": null,
            "grid_template_columns": null,
            "grid_template_rows": null,
            "height": null,
            "justify_content": null,
            "justify_items": null,
            "left": null,
            "margin": null,
            "max_height": null,
            "max_width": null,
            "min_height": null,
            "min_width": null,
            "object_fit": null,
            "object_position": null,
            "order": null,
            "overflow": null,
            "overflow_x": null,
            "overflow_y": null,
            "padding": null,
            "right": null,
            "top": null,
            "visibility": null,
            "width": null
          }
        },
        "2c867197888b40688b2de0b6a1c6a007": {
          "model_module": "@jupyter-widgets/base",
          "model_name": "LayoutModel",
          "model_module_version": "1.2.0",
          "state": {
            "_model_module": "@jupyter-widgets/base",
            "_model_module_version": "1.2.0",
            "_model_name": "LayoutModel",
            "_view_count": null,
            "_view_module": "@jupyter-widgets/base",
            "_view_module_version": "1.2.0",
            "_view_name": "LayoutView",
            "align_content": null,
            "align_items": null,
            "align_self": null,
            "border": null,
            "bottom": null,
            "display": null,
            "flex": null,
            "flex_flow": null,
            "grid_area": null,
            "grid_auto_columns": null,
            "grid_auto_flow": null,
            "grid_auto_rows": null,
            "grid_column": null,
            "grid_gap": null,
            "grid_row": null,
            "grid_template_areas": null,
            "grid_template_columns": null,
            "grid_template_rows": null,
            "height": null,
            "justify_content": null,
            "justify_items": null,
            "left": null,
            "margin": null,
            "max_height": null,
            "max_width": null,
            "min_height": null,
            "min_width": null,
            "object_fit": null,
            "object_position": null,
            "order": null,
            "overflow": null,
            "overflow_x": null,
            "overflow_y": null,
            "padding": null,
            "right": null,
            "top": null,
            "visibility": null,
            "width": null
          }
        },
        "85ea69a6324545599a8bd5ad47e48951": {
          "model_module": "@jupyter-widgets/controls",
          "model_name": "DescriptionStyleModel",
          "model_module_version": "1.5.0",
          "state": {
            "_model_module": "@jupyter-widgets/controls",
            "_model_module_version": "1.5.0",
            "_model_name": "DescriptionStyleModel",
            "_view_count": null,
            "_view_module": "@jupyter-widgets/base",
            "_view_module_version": "1.2.0",
            "_view_name": "StyleView",
            "description_width": ""
          }
        },
        "c9c42c25dae44ffcb11d27a51bb44c99": {
          "model_module": "@jupyter-widgets/base",
          "model_name": "LayoutModel",
          "model_module_version": "1.2.0",
          "state": {
            "_model_module": "@jupyter-widgets/base",
            "_model_module_version": "1.2.0",
            "_model_name": "LayoutModel",
            "_view_count": null,
            "_view_module": "@jupyter-widgets/base",
            "_view_module_version": "1.2.0",
            "_view_name": "LayoutView",
            "align_content": null,
            "align_items": null,
            "align_self": null,
            "border": null,
            "bottom": null,
            "display": null,
            "flex": null,
            "flex_flow": null,
            "grid_area": null,
            "grid_auto_columns": null,
            "grid_auto_flow": null,
            "grid_auto_rows": null,
            "grid_column": null,
            "grid_gap": null,
            "grid_row": null,
            "grid_template_areas": null,
            "grid_template_columns": null,
            "grid_template_rows": null,
            "height": null,
            "justify_content": null,
            "justify_items": null,
            "left": null,
            "margin": null,
            "max_height": null,
            "max_width": null,
            "min_height": null,
            "min_width": null,
            "object_fit": null,
            "object_position": null,
            "order": null,
            "overflow": null,
            "overflow_x": null,
            "overflow_y": null,
            "padding": null,
            "right": null,
            "top": null,
            "visibility": null,
            "width": null
          }
        },
        "379122e25d53497ca08597bfd0449000": {
          "model_module": "@jupyter-widgets/controls",
          "model_name": "ProgressStyleModel",
          "model_module_version": "1.5.0",
          "state": {
            "_model_module": "@jupyter-widgets/controls",
            "_model_module_version": "1.5.0",
            "_model_name": "ProgressStyleModel",
            "_view_count": null,
            "_view_module": "@jupyter-widgets/base",
            "_view_module_version": "1.2.0",
            "_view_name": "StyleView",
            "bar_color": null,
            "description_width": ""
          }
        },
        "33f4b9be75fb4af8b393c5b4bb5fcce5": {
          "model_module": "@jupyter-widgets/base",
          "model_name": "LayoutModel",
          "model_module_version": "1.2.0",
          "state": {
            "_model_module": "@jupyter-widgets/base",
            "_model_module_version": "1.2.0",
            "_model_name": "LayoutModel",
            "_view_count": null,
            "_view_module": "@jupyter-widgets/base",
            "_view_module_version": "1.2.0",
            "_view_name": "LayoutView",
            "align_content": null,
            "align_items": null,
            "align_self": null,
            "border": null,
            "bottom": null,
            "display": null,
            "flex": null,
            "flex_flow": null,
            "grid_area": null,
            "grid_auto_columns": null,
            "grid_auto_flow": null,
            "grid_auto_rows": null,
            "grid_column": null,
            "grid_gap": null,
            "grid_row": null,
            "grid_template_areas": null,
            "grid_template_columns": null,
            "grid_template_rows": null,
            "height": null,
            "justify_content": null,
            "justify_items": null,
            "left": null,
            "margin": null,
            "max_height": null,
            "max_width": null,
            "min_height": null,
            "min_width": null,
            "object_fit": null,
            "object_position": null,
            "order": null,
            "overflow": null,
            "overflow_x": null,
            "overflow_y": null,
            "padding": null,
            "right": null,
            "top": null,
            "visibility": null,
            "width": null
          }
        },
        "5ae03bc86d4c43ccada166839acc5664": {
          "model_module": "@jupyter-widgets/controls",
          "model_name": "DescriptionStyleModel",
          "model_module_version": "1.5.0",
          "state": {
            "_model_module": "@jupyter-widgets/controls",
            "_model_module_version": "1.5.0",
            "_model_name": "DescriptionStyleModel",
            "_view_count": null,
            "_view_module": "@jupyter-widgets/base",
            "_view_module_version": "1.2.0",
            "_view_name": "StyleView",
            "description_width": ""
          }
        }
      }
    }
  },
  "cells": [
    {
      "cell_type": "code",
      "execution_count": null,
      "metadata": {
        "colab": {
          "base_uri": "https://localhost:8080/"
        },
        "id": "PioGm_Kgn_z9",
        "outputId": "2c63b9e4-65f4-4861-8124-bcf1e8952a5e"
      },
      "outputs": [
        {
          "output_type": "stream",
          "name": "stdout",
          "text": [
            "Requirement already satisfied: transformers in /usr/local/lib/python3.10/dist-packages (4.44.2)\n",
            "Requirement already satisfied: datasets in /usr/local/lib/python3.10/dist-packages (3.0.0)\n",
            "Requirement already satisfied: evaluate in /usr/local/lib/python3.10/dist-packages (0.4.3)\n",
            "Requirement already satisfied: scikit-learn in /usr/local/lib/python3.10/dist-packages (1.5.2)\n",
            "Requirement already satisfied: filelock in /usr/local/lib/python3.10/dist-packages (from transformers) (3.16.1)\n",
            "Requirement already satisfied: huggingface-hub<1.0,>=0.23.2 in /usr/local/lib/python3.10/dist-packages (from transformers) (0.24.7)\n",
            "Requirement already satisfied: numpy>=1.17 in /usr/local/lib/python3.10/dist-packages (from transformers) (1.26.4)\n",
            "Requirement already satisfied: packaging>=20.0 in /usr/local/lib/python3.10/dist-packages (from transformers) (24.1)\n",
            "Requirement already satisfied: pyyaml>=5.1 in /usr/local/lib/python3.10/dist-packages (from transformers) (6.0.2)\n",
            "Requirement already satisfied: regex!=2019.12.17 in /usr/local/lib/python3.10/dist-packages (from transformers) (2024.9.11)\n",
            "Requirement already satisfied: requests in /usr/local/lib/python3.10/dist-packages (from transformers) (2.32.3)\n",
            "Requirement already satisfied: safetensors>=0.4.1 in /usr/local/lib/python3.10/dist-packages (from transformers) (0.4.5)\n",
            "Requirement already satisfied: tokenizers<0.20,>=0.19 in /usr/local/lib/python3.10/dist-packages (from transformers) (0.19.1)\n",
            "Requirement already satisfied: tqdm>=4.27 in /usr/local/lib/python3.10/dist-packages (from transformers) (4.66.5)\n",
            "Requirement already satisfied: pyarrow>=15.0.0 in /usr/local/lib/python3.10/dist-packages (from datasets) (17.0.0)\n",
            "Requirement already satisfied: dill<0.3.9,>=0.3.0 in /usr/local/lib/python3.10/dist-packages (from datasets) (0.3.8)\n",
            "Requirement already satisfied: pandas in /usr/local/lib/python3.10/dist-packages (from datasets) (2.1.4)\n",
            "Requirement already satisfied: xxhash in /usr/local/lib/python3.10/dist-packages (from datasets) (3.5.0)\n",
            "Requirement already satisfied: multiprocess in /usr/local/lib/python3.10/dist-packages (from datasets) (0.70.16)\n",
            "Requirement already satisfied: fsspec<=2024.6.1,>=2023.1.0 in /usr/local/lib/python3.10/dist-packages (from fsspec[http]<=2024.6.1,>=2023.1.0->datasets) (2024.6.1)\n",
            "Requirement already satisfied: aiohttp in /usr/local/lib/python3.10/dist-packages (from datasets) (3.10.5)\n",
            "Requirement already satisfied: scipy>=1.6.0 in /usr/local/lib/python3.10/dist-packages (from scikit-learn) (1.13.1)\n",
            "Requirement already satisfied: joblib>=1.2.0 in /usr/local/lib/python3.10/dist-packages (from scikit-learn) (1.4.2)\n",
            "Requirement already satisfied: threadpoolctl>=3.1.0 in /usr/local/lib/python3.10/dist-packages (from scikit-learn) (3.5.0)\n",
            "Requirement already satisfied: aiohappyeyeballs>=2.3.0 in /usr/local/lib/python3.10/dist-packages (from aiohttp->datasets) (2.4.0)\n",
            "Requirement already satisfied: aiosignal>=1.1.2 in /usr/local/lib/python3.10/dist-packages (from aiohttp->datasets) (1.3.1)\n",
            "Requirement already satisfied: attrs>=17.3.0 in /usr/local/lib/python3.10/dist-packages (from aiohttp->datasets) (24.2.0)\n",
            "Requirement already satisfied: frozenlist>=1.1.1 in /usr/local/lib/python3.10/dist-packages (from aiohttp->datasets) (1.4.1)\n",
            "Requirement already satisfied: multidict<7.0,>=4.5 in /usr/local/lib/python3.10/dist-packages (from aiohttp->datasets) (6.1.0)\n",
            "Requirement already satisfied: yarl<2.0,>=1.0 in /usr/local/lib/python3.10/dist-packages (from aiohttp->datasets) (1.11.1)\n",
            "Requirement already satisfied: async-timeout<5.0,>=4.0 in /usr/local/lib/python3.10/dist-packages (from aiohttp->datasets) (4.0.3)\n",
            "Requirement already satisfied: typing-extensions>=3.7.4.3 in /usr/local/lib/python3.10/dist-packages (from huggingface-hub<1.0,>=0.23.2->transformers) (4.12.2)\n",
            "Requirement already satisfied: charset-normalizer<4,>=2 in /usr/local/lib/python3.10/dist-packages (from requests->transformers) (3.3.2)\n",
            "Requirement already satisfied: idna<4,>=2.5 in /usr/local/lib/python3.10/dist-packages (from requests->transformers) (3.10)\n",
            "Requirement already satisfied: urllib3<3,>=1.21.1 in /usr/local/lib/python3.10/dist-packages (from requests->transformers) (2.2.3)\n",
            "Requirement already satisfied: certifi>=2017.4.17 in /usr/local/lib/python3.10/dist-packages (from requests->transformers) (2024.8.30)\n",
            "Requirement already satisfied: python-dateutil>=2.8.2 in /usr/local/lib/python3.10/dist-packages (from pandas->datasets) (2.8.2)\n",
            "Requirement already satisfied: pytz>=2020.1 in /usr/local/lib/python3.10/dist-packages (from pandas->datasets) (2024.2)\n",
            "Requirement already satisfied: tzdata>=2022.1 in /usr/local/lib/python3.10/dist-packages (from pandas->datasets) (2024.1)\n",
            "Requirement already satisfied: six>=1.5 in /usr/local/lib/python3.10/dist-packages (from python-dateutil>=2.8.2->pandas->datasets) (1.16.0)\n",
            "Requirement already satisfied: torch in /usr/local/lib/python3.10/dist-packages (2.4.1+cu121)\n",
            "Requirement already satisfied: filelock in /usr/local/lib/python3.10/dist-packages (from torch) (3.16.1)\n",
            "Requirement already satisfied: typing-extensions>=4.8.0 in /usr/local/lib/python3.10/dist-packages (from torch) (4.12.2)\n",
            "Requirement already satisfied: sympy in /usr/local/lib/python3.10/dist-packages (from torch) (1.13.3)\n",
            "Requirement already satisfied: networkx in /usr/local/lib/python3.10/dist-packages (from torch) (3.3)\n",
            "Requirement already satisfied: jinja2 in /usr/local/lib/python3.10/dist-packages (from torch) (3.1.4)\n",
            "Requirement already satisfied: fsspec in /usr/local/lib/python3.10/dist-packages (from torch) (2024.6.1)\n",
            "Requirement already satisfied: MarkupSafe>=2.0 in /usr/local/lib/python3.10/dist-packages (from jinja2->torch) (2.1.5)\n",
            "Requirement already satisfied: mpmath<1.4,>=1.1.0 in /usr/local/lib/python3.10/dist-packages (from sympy->torch) (1.3.0)\n"
          ]
        }
      ],
      "source": [
        "!pip install transformers datasets evaluate scikit-learn\n",
        "!pip install torch"
      ]
    },
    {
      "cell_type": "code",
      "source": [
        "from datasets import load_dataset\n",
        "from transformers import AutoTokenizer, AutoModelForSequenceClassification, TrainingArguments, Trainer, DataCollatorWithPadding, pipeline\n",
        "import torch\n",
        "import evaluate\n",
        "import numpy as np\n",
        "import time\n",
        "import math\n",
        "import random\n",
        "import matplotlib.pyplot as plt\n",
        "from tqdm import tqdm\n",
        "from torch.utils.data import DataLoader"
      ],
      "metadata": {
        "id": "B4vIBUWYw4Fy"
      },
      "execution_count": null,
      "outputs": []
    },
    {
      "cell_type": "code",
      "source": [
        "device = 'cuda:0' if torch.cuda.is_available() else 'cpu'"
      ],
      "metadata": {
        "id": "M8q_U38XayFW"
      },
      "execution_count": null,
      "outputs": []
    },
    {
      "cell_type": "code",
      "source": [
        "mrpc_dataset = load_dataset(\"glue\", \"mrpc\")\n",
        "training_losses = []\n",
        "batches = []\n",
        "\n",
        "print(mrpc_dataset)\n",
        "\n",
        "tokenizer = AutoTokenizer.from_pretrained(\"nghuyong/ernie-2.0-base-en\")\n",
        "\n",
        "def tokenize_function(example):\n",
        "    return tokenizer(example['sentence1'], example['sentence2'], truncation=True)\n",
        "\n",
        "tokenized_dataset = mrpc_dataset.map(tokenize_function, batched=True)\n",
        "\n",
        "data_collator = DataCollatorWithPadding(tokenizer=tokenizer)\n",
        "\n",
        "print(mrpc_dataset['train'][0])\n",
        "print(tokenized_dataset['train'][0])"
      ],
      "metadata": {
        "id": "Ah89tvlgBDkD",
        "colab": {
          "base_uri": "https://localhost:8080/",
          "height": 503,
          "referenced_widgets": [
            "f4d55aca9c3f4d3ca9d7d655627842ed",
            "59d7c334758344b3b771f0efe3e2ee1f",
            "57fe98f8628a4f8d8ebcc603f4275baa",
            "5cdf7f0df09d4105a8257e4fccdbe4e6",
            "9763146190fd4a42b06a614271dbd953",
            "2c867197888b40688b2de0b6a1c6a007",
            "85ea69a6324545599a8bd5ad47e48951",
            "c9c42c25dae44ffcb11d27a51bb44c99",
            "379122e25d53497ca08597bfd0449000",
            "33f4b9be75fb4af8b393c5b4bb5fcce5",
            "5ae03bc86d4c43ccada166839acc5664"
          ]
        },
        "outputId": "437146d4-869b-42f6-f973-81909450070d"
      },
      "execution_count": null,
      "outputs": [
        {
          "output_type": "stream",
          "name": "stderr",
          "text": [
            "/usr/local/lib/python3.10/dist-packages/huggingface_hub/utils/_token.py:89: UserWarning: \n",
            "The secret `HF_TOKEN` does not exist in your Colab secrets.\n",
            "To authenticate with the Hugging Face Hub, create a token in your settings tab (https://huggingface.co/settings/tokens), set it as secret in your Google Colab and restart your session.\n",
            "You will be able to reuse this secret in all of your notebooks.\n",
            "Please note that authentication is recommended but still optional to access public models or datasets.\n",
            "  warnings.warn(\n"
          ]
        },
        {
          "output_type": "stream",
          "name": "stdout",
          "text": [
            "DatasetDict({\n",
            "    train: Dataset({\n",
            "        features: ['sentence1', 'sentence2', 'label', 'idx'],\n",
            "        num_rows: 3668\n",
            "    })\n",
            "    validation: Dataset({\n",
            "        features: ['sentence1', 'sentence2', 'label', 'idx'],\n",
            "        num_rows: 408\n",
            "    })\n",
            "    test: Dataset({\n",
            "        features: ['sentence1', 'sentence2', 'label', 'idx'],\n",
            "        num_rows: 1725\n",
            "    })\n",
            "})\n"
          ]
        },
        {
          "output_type": "stream",
          "name": "stderr",
          "text": [
            "/usr/local/lib/python3.10/dist-packages/transformers/tokenization_utils_base.py:1601: FutureWarning: `clean_up_tokenization_spaces` was not set. It will be set to `True` by default. This behavior will be depracted in transformers v4.45, and will be then set to `False` by default. For more details check this issue: https://github.com/huggingface/transformers/issues/31884\n",
            "  warnings.warn(\n"
          ]
        },
        {
          "output_type": "display_data",
          "data": {
            "text/plain": [
              "Map:   0%|          | 0/1725 [00:00<?, ? examples/s]"
            ],
            "application/vnd.jupyter.widget-view+json": {
              "version_major": 2,
              "version_minor": 0,
              "model_id": "f4d55aca9c3f4d3ca9d7d655627842ed"
            }
          },
          "metadata": {}
        },
        {
          "output_type": "stream",
          "name": "stderr",
          "text": [
            "Asking to truncate to max_length but no maximum length is provided and the model has no predefined maximum length. Default to no truncation.\n"
          ]
        },
        {
          "output_type": "stream",
          "name": "stdout",
          "text": [
            "{'sentence1': 'Amrozi accused his brother , whom he called \" the witness \" , of deliberately distorting his evidence .', 'sentence2': 'Referring to him as only \" the witness \" , Amrozi accused his brother of deliberately distorting his evidence .', 'label': 1, 'idx': 0}\n",
            "{'sentence1': 'Amrozi accused his brother , whom he called \" the witness \" , of deliberately distorting his evidence .', 'sentence2': 'Referring to him as only \" the witness \" , Amrozi accused his brother of deliberately distorting his evidence .', 'label': 1, 'idx': 0, 'input_ids': [101, 2572, 3217, 5831, 5496, 2010, 2567, 1010, 3183, 2002, 2170, 1000, 1996, 7409, 1000, 1010, 1997, 9969, 4487, 23809, 3436, 2010, 3350, 1012, 102, 7727, 2000, 2032, 2004, 2069, 1000, 1996, 7409, 1000, 1010, 2572, 3217, 5831, 5496, 2010, 2567, 1997, 9969, 4487, 23809, 3436, 2010, 3350, 1012, 102], 'token_type_ids': [0, 0, 0, 0, 0, 0, 0, 0, 0, 0, 0, 0, 0, 0, 0, 0, 0, 0, 0, 0, 0, 0, 0, 0, 0, 1, 1, 1, 1, 1, 1, 1, 1, 1, 1, 1, 1, 1, 1, 1, 1, 1, 1, 1, 1, 1, 1, 1, 1, 1], 'attention_mask': [1, 1, 1, 1, 1, 1, 1, 1, 1, 1, 1, 1, 1, 1, 1, 1, 1, 1, 1, 1, 1, 1, 1, 1, 1, 1, 1, 1, 1, 1, 1, 1, 1, 1, 1, 1, 1, 1, 1, 1, 1, 1, 1, 1, 1, 1, 1, 1, 1, 1]}\n"
          ]
        }
      ]
    },
    {
      "cell_type": "code",
      "source": [
        "accuracy = evaluate.load('accuracy')"
      ],
      "metadata": {
        "id": "2N4gPCtMVzrT"
      },
      "execution_count": null,
      "outputs": []
    },
    {
      "cell_type": "code",
      "source": [
        "def compute_metrics(eval_pred):\n",
        "    predictions, labels = eval_pred\n",
        "    predictions = np.argmax(predictions, axis=1)\n",
        "    return accuracy.compute(predictions=predictions, references=labels)"
      ],
      "metadata": {
        "id": "r6ojeG-oWmiz"
      },
      "execution_count": null,
      "outputs": []
    },
    {
      "cell_type": "code",
      "source": [
        "labels = ['not equivalent', 'equivalent']\n",
        "id2label = {i: label for i, label in enumerate(labels)}\n",
        "label2id = {label: i for i, label in id2label.items()}\n",
        "\n",
        "print('id2label:', id2label)\n",
        "print('label2id:', label2id)"
      ],
      "metadata": {
        "colab": {
          "base_uri": "https://localhost:8080/"
        },
        "id": "ijqqUSziXRVz",
        "outputId": "ef0d1032-6d39-435a-d535-95cd081bd545"
      },
      "execution_count": null,
      "outputs": [
        {
          "output_type": "stream",
          "name": "stdout",
          "text": [
            "id2label: {0: 'not equivalent', 1: 'equivalent'}\n",
            "label2id: {'not equivalent': 0, 'equivalent': 1}\n"
          ]
        }
      ]
    },
    {
      "cell_type": "code",
      "source": [
        "model = AutoModelForSequenceClassification.from_pretrained(\n",
        "    \"nghuyong/ernie-2.0-base-en\", num_labels=len(labels), id2label=id2label, label2id=label2id\n",
        ")\n",
        "model.to(device)"
      ],
      "metadata": {
        "colab": {
          "base_uri": "https://localhost:8080/"
        },
        "id": "uOkJ5a-5XZSh",
        "outputId": "f4eaf86b-efd8-496c-b5a4-f9f33fd42501"
      },
      "execution_count": null,
      "outputs": [
        {
          "output_type": "stream",
          "name": "stderr",
          "text": [
            "Some weights of ErnieForSequenceClassification were not initialized from the model checkpoint at nghuyong/ernie-2.0-base-en and are newly initialized: ['classifier.bias', 'classifier.weight']\n",
            "You should probably TRAIN this model on a down-stream task to be able to use it for predictions and inference.\n"
          ]
        },
        {
          "output_type": "execute_result",
          "data": {
            "text/plain": [
              "ErnieForSequenceClassification(\n",
              "  (ernie): ErnieModel(\n",
              "    (embeddings): ErnieEmbeddings(\n",
              "      (word_embeddings): Embedding(30522, 768, padding_idx=0)\n",
              "      (position_embeddings): Embedding(512, 768)\n",
              "      (token_type_embeddings): Embedding(4, 768)\n",
              "      (LayerNorm): LayerNorm((768,), eps=1e-05, elementwise_affine=True)\n",
              "      (dropout): Dropout(p=0.1, inplace=False)\n",
              "    )\n",
              "    (encoder): ErnieEncoder(\n",
              "      (layer): ModuleList(\n",
              "        (0-11): 12 x ErnieLayer(\n",
              "          (attention): ErnieAttention(\n",
              "            (self): ErnieSelfAttention(\n",
              "              (query): Linear(in_features=768, out_features=768, bias=True)\n",
              "              (key): Linear(in_features=768, out_features=768, bias=True)\n",
              "              (value): Linear(in_features=768, out_features=768, bias=True)\n",
              "              (dropout): Dropout(p=0.1, inplace=False)\n",
              "            )\n",
              "            (output): ErnieSelfOutput(\n",
              "              (dense): Linear(in_features=768, out_features=768, bias=True)\n",
              "              (LayerNorm): LayerNorm((768,), eps=1e-05, elementwise_affine=True)\n",
              "              (dropout): Dropout(p=0.1, inplace=False)\n",
              "            )\n",
              "          )\n",
              "          (intermediate): ErnieIntermediate(\n",
              "            (dense): Linear(in_features=768, out_features=3072, bias=True)\n",
              "            (intermediate_act_fn): GELUActivation()\n",
              "          )\n",
              "          (output): ErnieOutput(\n",
              "            (dense): Linear(in_features=3072, out_features=768, bias=True)\n",
              "            (LayerNorm): LayerNorm((768,), eps=1e-05, elementwise_affine=True)\n",
              "            (dropout): Dropout(p=0.1, inplace=False)\n",
              "          )\n",
              "        )\n",
              "      )\n",
              "    )\n",
              "    (pooler): ErniePooler(\n",
              "      (dense): Linear(in_features=768, out_features=768, bias=True)\n",
              "      (activation): Tanh()\n",
              "    )\n",
              "  )\n",
              "  (dropout): Dropout(p=0.1, inplace=False)\n",
              "  (classifier): Linear(in_features=768, out_features=2, bias=True)\n",
              ")"
            ]
          },
          "metadata": {},
          "execution_count": 8
        }
      ]
    },
    {
      "cell_type": "code",
      "source": [
        "class CustomTrainer (Trainer):\n",
        "  def _inner_training_loop(self, batch_size =None, args =None, resume_from_checkpoint =None, trial =None, ignore_keys_for_eval = None):\n",
        "    number_of_epochs = args.num_train_epochs\n",
        "    start = time.time()\n",
        "    train_loss =[]\n",
        "    train_acc =[]\n",
        "    eval_acc =[]\n",
        "    criterion = torch.nn.CrossEntropyLoss().to(device)\n",
        "    self.optimizer = torch.optim.Adam(model.parameters(), lr=args.learning_rate)\n",
        "    self.scheduler = torch.optim.lr_scheduler.StepLR(self.optimizer, 1, gamma=0.9)\n",
        "    train_dataloader = self.get_train_dataloader()\n",
        "    eval_dataloader = self.get_eval_dataloader()\n",
        "    max_steps = math.ceil(args.num_train_epochs * len(train_dataloader))\n",
        "    total_steps = 0\n",
        "\n",
        "    for epoch in range (number_of_epochs):\n",
        "      train_loss_per_epoch = 0\n",
        "      train_acc_per_epoch = 0\n",
        "      with tqdm(train_dataloader, unit=\"batch\") as training_epoch:\n",
        "        training_epoch.set_description( f\"Training Epoch{epoch}\")\n",
        "        for step, inputs in enumerate(training_epoch):\n",
        "          total_steps += 1\n",
        "          batches.append(total_steps)\n",
        "          # Loop used from AI suggestion\n",
        "          for k, v in inputs.items():\n",
        "            if isinstance(v, torch.Tensor):\n",
        "              inputs[k] = v.to(device)\n",
        "          labels = inputs['labels']\n",
        "\n",
        "          # forward pass\n",
        "          self.optimizer.zero_grad()\n",
        "          output = self.model(**inputs)\n",
        "          # get the loss\n",
        "          loss = criterion(output['logits'], labels)\n",
        "          train_loss_per_epoch += loss.item()\n",
        "          training_losses.append(loss.item())\n",
        "          # calculate gradients\n",
        "          loss.backward()\n",
        "          # update weights\n",
        "          self.optimizer.step()\n",
        "          train_acc_per_epoch += (output['logits'].argmax(1) == labels).sum().item()\n",
        "      # adjust the learning rate\n",
        "      self.scheduler.step()\n",
        "      train_loss_per_epoch /= len(train_dataloader)\n",
        "      train_acc_per_epoch /= (len(train_dataloader)*batch_size)\n",
        "\n",
        "      eval_loss_per_epoch = 0\n",
        "      eval_acc_per_epoch = 0\n",
        "      with tqdm(eval_dataloader, unit=\"batch\") as eval_epoch:\n",
        "        eval_epoch.set_description(f\"Evaluation Epoch{epoch}\")\n",
        "        for step, inputs in enumerate(eval_epoch):\n",
        "          # Loop used from AI suggestion\n",
        "          for k, v in inputs.items():\n",
        "            if isinstance(v, torch.Tensor):\n",
        "              inputs[k] = v.to(device)\n",
        "          labels = inputs['labels']\n",
        "\n",
        "          with torch.no_grad():\n",
        "            output = self.model(**inputs)\n",
        "            loss = criterion(output['logits'], labels)\n",
        "            eval_loss_per_epoch += loss.item()\n",
        "            eval_acc_per_epoch += (output['logits'].argmax(1) == labels).sum().item()\n",
        "\n",
        "      eval_loss_per_epoch /= (len(eval_dataloader))\n",
        "      eval_acc_per_epoch /= (len(eval_dataloader)*batch_size)\n",
        "      print(f'\\tTrain Loss: {train_loss_per_epoch:.3f} | Train Acc: {train_acc_per_epoch * 100:.2f}%')\n",
        "      print(f'\\tEval Loss: {eval_loss_per_epoch:.3f} | Eval Acc: {eval_acc_per_epoch * 100:.2f}%')\n",
        "\n",
        "    print(f'Time: {(time.time() - start)/60:.3f} minutes')\n",
        "\n",
        "  # This function was completed using the help of ChatGPT\n",
        "  def print_incorrect_predictions(self, eval_dataloader, original_dataset):\n",
        "    self.model.eval()  # Set the model to evaluation mode\n",
        "    incorrect_samples = []\n",
        "    seen_indices = set()  # Set to keep track of already collected indices\n",
        "\n",
        "    with torch.no_grad():\n",
        "        for batch in eval_dataloader:\n",
        "          # Loop used from AI suggestion\n",
        "            for k, v in batch.items():\n",
        "                if isinstance(v, torch.Tensor):\n",
        "                    batch[k] = v.to(device)\n",
        "            labels = batch['labels']\n",
        "\n",
        "            # Forward pass\n",
        "            outputs = self.model(**batch)\n",
        "            predictions = outputs['logits'].argmax(dim=1)\n",
        "\n",
        "            # Apply softmax to logits to get confidence scores\n",
        "            probabilities = torch.softmax(outputs['logits'], dim=1)\n",
        "\n",
        "            # Collect incorrect samples\n",
        "            incorrect = predictions != labels\n",
        "            for i in range(len(incorrect)):\n",
        "                if incorrect[i]:\n",
        "                    # Check if the index has already been seen\n",
        "                    if i in seen_indices:\n",
        "                        continue\n",
        "                    seen_indices.add(i)  # Add the index to the set\n",
        "\n",
        "                    # Use the original dataset to get plain text\n",
        "                    original_sample = original_dataset['validation'][i]\n",
        "                    confidence_score = probabilities[i][predictions[i]].item()\n",
        "                    sample = {\n",
        "                        'sentence1': original_sample['sentence1'],\n",
        "                        'sentence2': original_sample['sentence2'],\n",
        "                        'predicted': predictions[i].item(),\n",
        "                        'true': labels[i].item(),\n",
        "                        'confidence': confidence_score\n",
        "                    }\n",
        "                    incorrect_samples.append(sample)\n",
        "\n",
        "                # Number of samples is set at 10\n",
        "                if len(incorrect_samples) >= 10:\n",
        "                    break\n",
        "            if len(incorrect_samples) >= 10:\n",
        "                break\n",
        "\n",
        "        # Print out the incorrect predictions and the confidence scores\n",
        "        for i, sample in enumerate(incorrect_samples, 1):\n",
        "            print(f\"\\nIncorrect Sample {i}:\")\n",
        "            print(f\"Sentence 1: {sample['sentence1']}\")\n",
        "            print(f\"Sentence 2: {sample['sentence2']}\")\n",
        "            print(f\"Predicted Label: {sample['predicted']} (Confidence: {sample['confidence']:.4f})\")\n",
        "            print(f\"True Label: {sample['true']}\")"
      ],
      "metadata": {
        "id": "d5EMmUOdY1nS"
      },
      "execution_count": null,
      "outputs": []
    },
    {
      "cell_type": "code",
      "source": [
        "training_args = TrainingArguments(\n",
        "    output_dir='chill_model',\n",
        "    learning_rate=2e-5,\n",
        "    per_device_train_batch_size=32,\n",
        "    per_device_eval_batch_size=32,\n",
        "    num_train_epochs=1,\n",
        "    weight_decay=0.01,\n",
        "    eval_strategy='epoch',\n",
        "    save_strategy='epoch',\n",
        "    load_best_model_at_end=True,\n",
        ")\n",
        "\n",
        "trainer = CustomTrainer(\n",
        "    model=model,\n",
        "    args=training_args,\n",
        "    train_dataset=tokenized_dataset['train'],\n",
        "    eval_dataset=tokenized_dataset['validation'],\n",
        "    tokenizer=tokenizer,\n",
        "    data_collator=data_collator,\n",
        "    compute_metrics=compute_metrics,\n",
        ")\n",
        "\n",
        "eval_dataloader = trainer.get_eval_dataloader()\n",
        "trainer.print_incorrect_predictions(eval_dataloader, mrpc_dataset)\n",
        "\n",
        "trainer.train()"
      ],
      "metadata": {
        "colab": {
          "base_uri": "https://localhost:8080/"
        },
        "id": "hlML-VGBl5gT",
        "outputId": "a0825647-bbdb-46bb-efff-bfcfdaf68b41"
      },
      "execution_count": null,
      "outputs": [
        {
          "output_type": "stream",
          "name": "stdout",
          "text": [
            "\n",
            "Incorrect Sample 1:\n",
            "Sentence 1: The dollar was at 116.92 yen against the yen , flat on the session , and at 1.2891 against the Swiss franc , also flat .\n",
            "Sentence 2: The dollar was at 116.78 yen JPY = , virtually flat on the session , and at 1.2871 against the Swiss franc CHF = , down 0.1 percent .\n",
            "Predicted Label: 1 (Confidence: 0.5785)\n",
            "True Label: 0\n",
            "\n",
            "Incorrect Sample 2:\n",
            "Sentence 1: No dates have been set for the civil or the criminal trial .\n",
            "Sentence 2: No dates have been set for the criminal or civil cases , but Shanley has pleaded not guilty .\n",
            "Predicted Label: 1 (Confidence: 0.5700)\n",
            "True Label: 0\n",
            "\n",
            "Incorrect Sample 3:\n",
            "Sentence 1: While dioxin levels in the environment were up last year , they have dropped by 75 percent since the 1970s , said Caswell .\n",
            "Sentence 2: The Institute said dioxin levels in the environment have fallen by as much as 76 percent since the 1970s .\n",
            "Predicted Label: 1 (Confidence: 0.6613)\n",
            "True Label: 0\n",
            "\n",
            "Incorrect Sample 4:\n",
            "Sentence 1: This integrates with Rational PurifyPlus and allows developers to work in supported versions of Java , Visual C # and Visual Basic .NET.\n",
            "Sentence 2: IBM said the Rational products were also integrated with Rational PurifyPlus , which allows developers to work in Java , Visual C # and VisualBasic .Net.\n",
            "Predicted Label: 0 (Confidence: 0.5025)\n",
            "True Label: 1\n",
            "\n",
            "Incorrect Sample 5:\n",
            "Sentence 1: The broader Standard & Poor 's 500 Index .SPX gave up 11.91 points , or 1.19 percent , at 986.60 .\n",
            "Sentence 2: The technology-laced Nasdaq Composite Index was down 25.36 points , or 1.53 percent , at 1,628.26 .\n",
            "Predicted Label: 1 (Confidence: 0.5442)\n",
            "True Label: 0\n",
            "\n",
            "Incorrect Sample 6:\n",
            "Sentence 1: The decision to issue new guidance has been prompted by intelligence passed to Britain by the FBI in a secret briefing in late July .\n",
            "Sentence 2: Scotland Yard 's decision to issue new guidance has been prompted by new intelligence passed to Britain by the FBI in late July .\n",
            "Predicted Label: 0 (Confidence: 0.5329)\n",
            "True Label: 1\n",
            "\n",
            "Incorrect Sample 7:\n",
            "Sentence 1: In midafternoon trading , the Nasdaq composite index was up 8.34 , or 0.5 percent , to 1,790.47 .\n",
            "Sentence 2: The Nasdaq Composite Index .IXIC dipped 8.59 points , or 0.48 percent , to 1,773.54 .\n",
            "Predicted Label: 1 (Confidence: 0.5728)\n",
            "True Label: 0\n",
            "\n",
            "Incorrect Sample 8:\n",
            "Sentence 1: Morgan Stanley raised its rating on the beverage maker to \" overweight \" from \" equal-weight \" saying in part that pricing power with its bottlers should improve in 2004 .\n",
            "Sentence 2: Morgan Stanley raised its rating on the company to \" overweight \" from \" equal-weight , \" saying the beverage maker 's pricing power with bottlers should improve in 2004 .\n",
            "Predicted Label: 0 (Confidence: 0.5206)\n",
            "True Label: 1\n",
            "\n",
            "Incorrect Sample 9:\n",
            "Sentence 1: The pound also made progress against the dollar , reached fresh three-year highs at $ 1.6789 .\n",
            "Sentence 2: The British pound flexed its muscle against the dollar , last up 1 percent at $ 1.6672 .\n",
            "Predicted Label: 1 (Confidence: 0.5331)\n",
            "True Label: 0\n",
            "\n",
            "Incorrect Sample 10:\n",
            "Sentence 1: Last month Intel raised its revenue guidance for the quarter to between $ 7.6 billion and $ 7.8 billion .\n",
            "Sentence 2: At the end of the second quarter , Intel initially predicted sales of between $ 6.9 billion and $ 7.5 billion .\n",
            "Predicted Label: 0 (Confidence: 0.5105)\n",
            "True Label: 1\n"
          ]
        },
        {
          "output_type": "stream",
          "name": "stderr",
          "text": [
            "Training Epoch0: 100%|██████████| 115/115 [00:46<00:00,  2.47batch/s]\n",
            "Evaluation Epoch0: 100%|██████████| 13/13 [00:01<00:00,  7.76batch/s]"
          ]
        },
        {
          "output_type": "stream",
          "name": "stdout",
          "text": [
            "\tTrain Loss: 0.444 | Train Acc: 78.07%\n",
            "\tEval Loss: 0.309 | Eval Acc: 86.78%\n",
            "Time: 0.804 minutes\n"
          ]
        },
        {
          "output_type": "stream",
          "name": "stderr",
          "text": [
            "\n"
          ]
        }
      ]
    },
    {
      "cell_type": "code",
      "source": [
        "plt.plot(batches, training_losses, label='Training Loss')\n",
        "plt.xlabel(\"Batches\")\n",
        "plt.ylabel(\"Training Loss\")\n",
        "plt.title(\"Learning Curve\")\n",
        "plt.show()"
      ],
      "metadata": {
        "colab": {
          "base_uri": "https://localhost:8080/",
          "height": 472
        },
        "id": "Fx726HsIxdfs",
        "outputId": "4ea81928-2929-4e7b-a219-1452de751c1c"
      },
      "execution_count": null,
      "outputs": [
        {
          "output_type": "display_data",
          "data": {
            "text/plain": [
              "<Figure size 640x480 with 1 Axes>"
            ],
            "image/png": "[encoded data removed]"
          },
          "metadata": {}
        }
      ]
    }
  ]
}